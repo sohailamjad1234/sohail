{
 "cells": [
  {
   "cell_type": "markdown",
   "id": "a7b0d272-e8d1-4eae-bfd1-60fbd613ba9c",
   "metadata": {},
   "source": [
    "                              Task no 1:\n",
    "     Write a Python program to check if a person is eligible to vote (18+ years)."
   ]
  },
  {
   "cell_type": "code",
   "execution_count": 9,
   "id": "1ff24dff-3b90-450d-958d-bb7bf9fe9f6b",
   "metadata": {},
   "outputs": [
    {
     "name": "stdin",
     "output_type": "stream",
     "text": [
      "Enter your Age in numbers: 15\n"
     ]
    },
    {
     "name": "stdout",
     "output_type": "stream",
     "text": [
      "The person is not eligible for vote\n"
     ]
    }
   ],
   "source": [
    "age=int(input(\"Enter your Age in numbers:\"))\n",
    "if(age>18):\n",
    "    print(\"The person is Eligible for vote\")\n",
    "elif (age<18):\n",
    "    print(\"The person is not eligible for vote\")"
   ]
  },
  {
   "cell_type": "markdown",
   "id": "442047a2-d2f5-4b21-905b-999a14944ceb",
   "metadata": {},
   "source": [
    "                                   Task no 2:\n",
    "  Calculate a student's grade based on their score (out of 100).nput: Score\n",
    "Output: Grade (A: 90+, B: 80-89, C: 70-79, D: 60-69, F: <60)"
   ]
  },
  {
   "cell_type": "code",
   "execution_count": 36,
   "id": "95268281-8a09-4012-af4c-bdf2b6981207",
   "metadata": {},
   "outputs": [
    {
     "name": "stdin",
     "output_type": "stream",
     "text": [
      "Enter your score in numbers  90\n"
     ]
    },
    {
     "name": "stdout",
     "output_type": "stream",
     "text": [
      "The student has A+ garde:\n"
     ]
    }
   ],
   "source": [
    "score=float(input(\"Enter your score in numbers \"))\n",
    "if score>=90:\n",
    "    print(\"The student has A+ garde:\")\n",
    "elif score>=80:\n",
    "    print(\"The student has B grade:\")\n",
    "elif score>=70:\n",
    "    print(\"The student has C grade:\")\n",
    "elif score>=60:\n",
    "    print(\"The student has D grade:\")\n",
    "else:\n",
    "    print(\"The student has F grade :\")\n",
    "    \n",
    "    \n",
    "    \n",
    "            "
   ]
  },
  {
   "cell_type": "markdown",
   "id": "102b4205-e3da-492d-b4e0-8bac622cbb29",
   "metadata": {},
   "source": [
    "                                         Task no 3:\n",
    "1. Check if a year is a leap year.\n",
    "Input: Year\n",
    "Output: \"Leap year\" or \"Not a leap year\""
   ]
  },
  {
   "cell_type": "code",
   "execution_count": 62,
   "id": "38293d2b-6677-42ea-8f87-f42053b7eeba",
   "metadata": {},
   "outputs": [
    {
     "name": "stdin",
     "output_type": "stream",
     "text": [
      "Enter the year in numbers 2021\n"
     ]
    },
    {
     "name": "stdout",
     "output_type": "stream",
     "text": [
      "This is not a leap yaer\n"
     ]
    }
   ],
   "source": [
    "year=int(input(\"Enter the year in numbers\"))\n",
    "if year%4==0:\n",
    "    print(\"This is a leap year:\")\n",
    "else:\n",
    "    print(\"This is not a leap yaer\")"
   ]
  },
  {
   "cell_type": "code",
   "execution_count": 76,
   "id": "ec26e218-96ee-4b4c-9104-5008ff0d63a5",
   "metadata": {},
   "outputs": [
    {
     "name": "stdin",
     "output_type": "stream",
     "text": [
      "Enter the first number 23\n",
      "Enter the second number 45\n"
     ]
    },
    {
     "name": "stdout",
     "output_type": "stream",
     "text": [
      "The num2 is greater\n"
     ]
    }
   ],
   "source": [
    "num1=int(input(\"Enter the first number\"))\n",
    "num2=int(input(\"Enter the second number\"))\n",
    "if(num1>num2):\n",
    "    print(\"The num1 is graeter\")\n",
    "elif(num1<num2):\n",
    "    print(\"The num2 is greater\")\n",
    "else:\n",
    "    print(\"The number are equal\")\n",
    "    "
   ]
  },
  {
   "cell_type": "markdown",
   "id": "a01378ee-f8d1-4100-b239-6e7bd39f5509",
   "metadata": {},
   "source": [
    "                                     Task no 4:\n",
    "Check if a number is even or odd."
   ]
  },
  {
   "cell_type": "code",
   "execution_count": 88,
   "id": "ee59f22d-b139-41d6-99e5-4d09f7c6371b",
   "metadata": {},
   "outputs": [
    {
     "name": "stdin",
     "output_type": "stream",
     "text": [
      "Enter the number 0\n"
     ]
    },
    {
     "name": "stdout",
     "output_type": "stream",
     "text": [
      "The number is Even:\n"
     ]
    }
   ],
   "source": [
    "num=int(input(\"Enter the number\"))\n",
    "if num%2==0:\n",
    "    print(\"The number is Even:\")\n",
    "elif num%2!=0:\n",
    "    print(\"The number is odd:\")\n",
    "else:\n",
    "    print(\"The number is zero:\")"
   ]
  },
  {
   "cell_type": "markdown",
   "id": "feea6152-4f1b-4ea7-aad9-d612dadca06e",
   "metadata": {},
   "source": [
    "                                                Task n0 5:\n",
    " Calculate discount (10% for purchases >1000)                                                "
   ]
  },
  {
   "cell_type": "code",
   "execution_count": 98,
   "id": "27d93fa0-568f-41f5-9d96-2b03c99bdd9f",
   "metadata": {},
   "outputs": [
    {
     "name": "stdin",
     "output_type": "stream",
     "text": [
      "Enter the purchase Amount 999\n"
     ]
    },
    {
     "name": "stdout",
     "output_type": "stream",
     "text": [
      "Discount lana la ka lia phala Api shopping 1000 sa zayda kara Thank you\n"
     ]
    }
   ],
   "source": [
    "purchase=int(input(\"Enter the purchase Amount\"))\n",
    "if purchase>1000:\n",
    "    discount=purchase*0.1\n",
    "    Final_price=purchase-discount\n",
    "    print(\"This is the final price:\" ,Final_price)\n",
    "else:\n",
    "    print(\"Discount lana la ka lia phala Api shopping 1000 sa zayda kara Thank you\")    \n",
    "    "
   ]
  },
  {
   "cell_type": "markdown",
   "id": "ca6baa1d-2fb5-4465-8d0b-dc7845a746c9",
   "metadata": {},
   "source": [
    "                                            Task n0 6:\n",
    "Check if a number is positive, negative, or zero."
   ]
  },
  {
   "cell_type": "code",
   "execution_count": 104,
   "id": "30cd1a72-b555-412e-92ec-eb7da19f6e4e",
   "metadata": {},
   "outputs": [
    {
     "name": "stdin",
     "output_type": "stream",
     "text": [
      "Enter the number 1.4\n"
     ]
    },
    {
     "name": "stdout",
     "output_type": "stream",
     "text": [
      "The number is positive\n"
     ]
    }
   ],
   "source": [
    "num=float(input(\"Enter the number\"))\n",
    "if num>0:\n",
    "    print(\"The number is positive\")\n",
    "else:\n",
    "    print(\"The number is negstive\")\n",
    "    "
   ]
  },
  {
   "cell_type": "markdown",
   "id": "bac51a50-afe4-42a5-a860-419d4dc0a2e6",
   "metadata": {},
   "source": [
    "                                           Task n0 7:\n",
    "Check if attendance percentage is greater than or equal to 75%."
   ]
  },
  {
   "cell_type": "code",
   "execution_count": 108,
   "id": "f80680fa-63ba-41b6-b2f0-24149751ec06",
   "metadata": {},
   "outputs": [
    {
     "name": "stdin",
     "output_type": "stream",
     "text": [
      "Enter the student Attandance 23\n"
     ]
    },
    {
     "name": "stdout",
     "output_type": "stream",
     "text": [
      "The student is not Eligible for Exams\n"
     ]
    }
   ],
   "source": [
    "Attandance=float(input(\"Enter the student Attandance\"))\n",
    "if Attandance>=75:\n",
    "    print(\"The student is Eligible for Exams\")\n",
    "else:\n",
    "    print(\"The student is not Eligible for Exams\")\n",
    "    "
   ]
  },
  {
   "cell_type": "code",
   "execution_count": null,
   "id": "6bf1a76d-5cad-475b-afa3-f5ec97fb52fe",
   "metadata": {},
   "outputs": [],
   "source": []
  }
 ],
 "metadata": {
  "kernelspec": {
   "display_name": "Python 3 (ipykernel)",
   "language": "python",
   "name": "python3"
  },
  "language_info": {
   "codemirror_mode": {
    "name": "ipython",
    "version": 3
   },
   "file_extension": ".py",
   "mimetype": "text/x-python",
   "name": "python",
   "nbconvert_exporter": "python",
   "pygments_lexer": "ipython3",
   "version": "3.12.4"
  }
 },
 "nbformat": 4,
 "nbformat_minor": 5
}
